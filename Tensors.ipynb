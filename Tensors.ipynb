{
 "cells": [
  {
   "cell_type": "code",
   "execution_count": 1,
   "id": "33639dd8-0ad3-41b6-bc3e-e6480cc84889",
   "metadata": {},
   "outputs": [],
   "source": [
    "import torch\n",
    "import numpy as np"
   ]
  },
  {
   "cell_type": "code",
   "execution_count": 2,
   "id": "f2682c20-220d-479f-8e43-e254e7c2f90c",
   "metadata": {},
   "outputs": [],
   "source": [
    "data = [[1,2],[3,4]]\n",
    "x_data = torch.tensor(data)"
   ]
  },
  {
   "cell_type": "code",
   "execution_count": 9,
   "id": "dc87141e-7014-4f53-a2da-b77488f26469",
   "metadata": {},
   "outputs": [],
   "source": [
    "np_array = np.array(data)\n",
    "x_np = torch.from_numpy(np_array)"
   ]
  },
  {
   "cell_type": "code",
   "execution_count": 19,
   "id": "34ae4309-463f-47c8-96f6-0d5e50e5786d",
   "metadata": {},
   "outputs": [
    {
     "name": "stdout",
     "output_type": "stream",
     "text": [
      "One's Tensor: \n",
      " tensor([[1, 1],\n",
      "        [1, 1]]) \n",
      "\n",
      "Rand's Tensor: \n",
      " tensor([[0.4311, 0.1165],\n",
      "        [0.7448, 0.6688]]) \n",
      "\n"
     ]
    }
   ],
   "source": [
    "# Tensors to Tensors\n",
    "\n",
    "x_ones = torch.ones_like(x_data)\n",
    "print(f\"One's Tensor: \\n {x_ones} \\n\")\n",
    "\n",
    "x_rand = torch.rand_like(x_data, dtype = torch.float)\n",
    "print(f\"Rand's Tensor: \\n {x_rand} \\n\")"
   ]
  },
  {
   "cell_type": "code",
   "execution_count": 24,
   "id": "3d1351b4-a931-4ba7-904a-04bd8bafd041",
   "metadata": {},
   "outputs": [],
   "source": [
    "shape = (2,3)\n",
    "rand_tensor = torch.rand(shape)\n",
    "one_tensor = torch.ones(shape)\n",
    "zero_tensor = torch.zeros(shape)"
   ]
  },
  {
   "cell_type": "code",
   "execution_count": 25,
   "id": "b0322ea7-8b7d-418f-8ff5-948f008452c2",
   "metadata": {},
   "outputs": [
    {
     "name": "stdout",
     "output_type": "stream",
     "text": [
      "tensor([[0.3254, 0.1522, 0.1884],\n",
      "        [0.4401, 0.4143, 0.0136]])\n",
      "tensor([[1., 1., 1.],\n",
      "        [1., 1., 1.]])\n",
      "tensor([[0., 0., 0.],\n",
      "        [0., 0., 0.]])\n"
     ]
    }
   ],
   "source": [
    "print(rand_tensor)\n",
    "print(one_tensor)\n",
    "print(zero_tensor)"
   ]
  },
  {
   "cell_type": "code",
   "execution_count": 27,
   "id": "11a4676d-c741-47ae-a7de-d89eeda24dfd",
   "metadata": {},
   "outputs": [
    {
     "name": "stdout",
     "output_type": "stream",
     "text": [
      "Tensor is stored on: cpu\n"
     ]
    }
   ],
   "source": [
    "print(f\"Tensor is stored on: {one_tensor.device}\")"
   ]
  },
  {
   "cell_type": "code",
   "execution_count": 36,
   "id": "daa90e1f-53be-4bd5-90b4-b0984964f161",
   "metadata": {},
   "outputs": [],
   "source": [
    "if torch.accelerator.is_available():\n",
    "    rand_tensor = rand_tensor.to(torch.accelerator.current_accelerator())"
   ]
  },
  {
   "cell_type": "code",
   "execution_count": 41,
   "id": "d3102046-6f95-42f2-963d-403525d47768",
   "metadata": {},
   "outputs": [
    {
     "name": "stdout",
     "output_type": "stream",
     "text": [
      "First row: tensor([1., 1., 1., 1.])\n",
      "Last column: tensor([1., 1., 1., 1.])\n"
     ]
    }
   ],
   "source": [
    "tensor = torch.ones(4,4)\n",
    "print(f\"First row: {tensor[0,:]}\")\n",
    "print(f\"Last column: {tensor[...,-1]}\")"
   ]
  },
  {
   "cell_type": "code",
   "execution_count": null,
   "id": "b1410df7-e26e-4e8e-96f8-a70fbb90c15d",
   "metadata": {},
   "outputs": [],
   "source": []
  }
 ],
 "metadata": {
  "kernelspec": {
   "display_name": "Python 3 (ipykernel)",
   "language": "python",
   "name": "python3"
  },
  "language_info": {
   "codemirror_mode": {
    "name": "ipython",
    "version": 3
   },
   "file_extension": ".py",
   "mimetype": "text/x-python",
   "name": "python",
   "nbconvert_exporter": "python",
   "pygments_lexer": "ipython3",
   "version": "3.10.6"
  }
 },
 "nbformat": 4,
 "nbformat_minor": 5
}
